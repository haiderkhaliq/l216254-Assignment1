{
  "nbformat": 4,
  "nbformat_minor": 0,
  "metadata": {
    "colab": {
      "provenance": [],
      "collapsed_sections": []
    },
    "kernelspec": {
      "name": "python3",
      "display_name": "Python 3"
    },
    "language_info": {
      "name": "python"
    }
  },
  "cells": [
    {
      "cell_type": "markdown",
      "source": [
        "# Introduction To Data Science – Assignment 1\n",
        "\n",
        "---\n",
        "\n",
        "### Sections A – B – C – D\n",
        "\n",
        "---\n",
        "\n",
        "***Instructions***\n",
        "\n",
        "Due Date: Sunday 18th September 2022 – 11:59PM\n",
        "\n",
        "Name the file in the format Lyyxxxx and save it as .ipynb (e.g. L201234.ipynb)\n",
        "\n",
        "Submission will be taken on **GitHub and Google Classroom (submit the .ipynb file)** - Instructions to upload onto GitHub are provided in the link https://docs.google.com/document/d/1BR1ULOGeGWJVU6Rr6Qty1FR-quVRZyRvQGII6nEs-wo/edit?usp=sharing\n",
        "\n",
        "After uploading and submitting the .ipynb file onto Google Classroom, also private comment the link to the GitHub repository.\n",
        "\n",
        "All source files needed to complete this assignment can be found on the following Google Drive link https://drive.google.com/drive/folders/1VrkaVcExGWqilSeh50WZe4gUBjmUiJ9b?usp=sharing\n",
        "\n",
        "TA Emails\n",
        "\n",
        "Section A, C - Muhammad Maarij l192347@lhr.nu.edu.pk\n",
        "\n",
        "Section B, D - Hira Ijaz l192377@lhr.nu.edu.pk\n",
        "\n",
        "Happy Coding 😊\n",
        "\n",
        "---"
      ],
      "metadata": {
        "id": "TWWLTwYZorzC"
      }
    },
    {
      "cell_type": "markdown",
      "source": [
        "---\n",
        "## Question 1\n",
        "---"
      ],
      "metadata": {
        "id": "arB_0r9H0jjC"
      }
    },
    {
      "cell_type": "markdown",
      "source": [
        "Define a procedure called \"check_input\" that takes an input as a square list of lists (2D Matrix of N x N) and returns a boolen \"true\" if the input is valid or \"false\" otherwise, according to the following criteria.\n",
        "\n",
        "1. Each coloumn must contain numbers from between 1 and N, with no duplicates.\n",
        "2. Each row must contain numbers from between 1 and N, with no duplicates."
      ],
      "metadata": {
        "id": "qHPTNDy30n99"
      }
    },
    {
      "cell_type": "code",
      "source": [
        "# define procedure here\n",
        "test1 = [[1, 2, 3],\n",
        "        [2, 3, 1],\n",
        "        [3, 1, 2]]\n",
        "\n",
        "test2 = [[1, 2, 3, 4],\n",
        "        [2, 3, 1, 3],\n",
        "        [3, 1, 2, 3],\n",
        "        [4, 4, 4, 4]]\n",
        "\n",
        "test3 = [['a', 'b', 'c'],\n",
        "        ['b', 'c', 'a'],\n",
        "        ['c', 'a', 'b']]\n",
        "def func1 (list):\n",
        "        z = int(len(list))\n",
        "        if z > 3:\n",
        "                x = int(len(list[3]))\n",
        "                y = int(len(set(list[3])))\n",
        "                if x > y:\n",
        "                        check = 0\n",
        "                else:\n",
        "                        check = 1\n",
        "        x = int(len(list[0]))\n",
        "        y = int(len(set(list[0])))\n",
        "        if x > y:\n",
        "                check = 0\n",
        "        else:\n",
        "                check = 1\n",
        "        x = int(len(list[1]))\n",
        "        y = int(len(set(list[1])))\n",
        "        if x > y:\n",
        "                check = 0\n",
        "        else:\n",
        "                check = 1\n",
        "        x = int(len(list[2]))\n",
        "        y = int(len(set(list[2])))\n",
        "        if x > y:\n",
        "                check = 0\n",
        "        else:\n",
        "                check = 1\n",
        "\n",
        "        return check\n",
        "\n",
        "c=func1(test1)\n",
        "if c==1:\n",
        "        print(\"valid input\")\n",
        "else:\n",
        "        print(\"invalid input\")\n",
        "\n",
        "c = func1(test2)\n",
        "if c == 1:\n",
        "        print(\"valid input\")\n",
        "else:\n",
        "        print(\"invalid input\")\n",
        "\n",
        "\n",
        "\n",
        "c=func1(test3)\n",
        "if c==1:\n",
        "        print(\"valid input\")\n",
        "else:\n",
        "        print(\"invalid input\")\n",
        "\n",
        "\n",
        "#did not understand how to traverse columns"
      ],
      "metadata": {
        "id": "S2_Zic322Lt7",
        "outputId": "63047ea4-7fdf-4dbc-c82e-395b488becb8",
        "colab": {
          "base_uri": "https://localhost:8080/"
        }
      },
      "execution_count": 19,
      "outputs": [
        {
          "output_type": "stream",
          "name": "stdout",
          "text": [
            "valid input\n",
            "invalid input\n",
            "valid input\n"
          ]
        }
      ]
    },
    {
      "cell_type": "code",
      "source": [
        "# run this block to test code after defining the procedure\n",
        "\n",
        "test1 = [[1, 2, 3],\n",
        "        [2, 3, 1],\n",
        "        [3, 1, 2]]\n",
        "\n",
        "test2 = [[1, 2, 3, 4],\n",
        "        [2, 3, 1, 3],\n",
        "        [3, 1, 2, 3],\n",
        "        [4, 4, 4, 4]]\n",
        "\n",
        "test3 = [['a', 'b', 'c'],\n",
        "        ['b', 'c', 'a'],\n",
        "        ['c', 'a', 'b']]\n",
        "\n",
        "print(check_input(test1)) # must return true\n",
        "print(check_input(test2)) # must return false\n",
        "print(check_input(test3)) # must return false"
      ],
      "metadata": {
        "id": "wdL9MWgq2ZbP"
      },
      "execution_count": null,
      "outputs": []
    },
    {
      "cell_type": "markdown",
      "source": [
        "---\n",
        "## Question 2\n",
        "---"
      ],
      "metadata": {
        "id": "4RVTlnhWqOUC"
      }
    },
    {
      "cell_type": "markdown",
      "source": [
        "**Part A** - Import the file \"StudentMarkSheet.csv\" as a Pandas DataFrame and print the information for the dataframe"
      ],
      "metadata": {
        "id": "Uyc7JPtNt0pR"
      }
    },
    {
      "cell_type": "code",
      "execution_count": 4,
      "metadata": {
        "id": "wYrt7e6Xop2P",
        "outputId": "5412eb33-cf5c-413a-fa64-9501646aa133",
        "colab": {
          "base_uri": "https://localhost:8080/",
          "height": 768
        }
      },
      "outputs": [
        {
          "output_type": "stream",
          "name": "stdout",
          "text": [
            "(200, 4)\n",
            "<class 'pandas.core.frame.DataFrame'>\n",
            "RangeIndex: 200 entries, 0 to 199\n",
            "Data columns (total 4 columns):\n",
            " #   Column        Non-Null Count  Dtype  \n",
            "---  ------        --------------  -----  \n",
            " 0   Student name  200 non-null    object \n",
            " 1   Exam name     199 non-null    object \n",
            " 2   Exam date     200 non-null    object \n",
            " 3   Marks         197 non-null    float64\n",
            "dtypes: float64(1), object(3)\n",
            "memory usage: 6.4+ KB\n",
            "None\n",
            "the number of rows are :\n",
            "200\n",
            "the number of rows after dropping\n",
            "196\n",
            "     Student name    Exam name   Exam date  Marks\n",
            "0    James Walker      Biology  05/06/2016   31.0\n",
            "42   James Walker    Chemistry  15/06/2016   61.0\n",
            "71   James Walker  Mathematics  29/07/2016   23.0\n",
            "150  James Walker      Physics  10/06/2016  100.0\n",
            "180  James Walker    Sociology  21/06/2016   73.0\n",
            "physics 51.76190476190476\n",
            "chemistry 50.57692307692308\n",
            "biology 47.89473684210526\n",
            "philosophy 47.270270270270274\n",
            "Mathematics 48.97222222222222\n",
            "Sociology 56.026315789473685\n"
          ]
        },
        {
          "output_type": "display_data",
          "data": {
            "text/plain": [
              "<Figure size 432x288 with 1 Axes>"
            ],
            "image/png": "[encoded data removed]"
          },
          "metadata": {
            "needs_background": "light"
          }
        }
      ],
      "source": [
        "import pandas\n",
        "import matplotlib.pyplot\n",
        "import numpy\n",
        "np=numpy\n",
        "plt=matplotlib.pyplot\n",
        "df=pandas\n",
        "pd=df.read_csv(\"StudentMarkSheet.csv\")\n",
        "print(pd.shape)\n",
        "print(pd.info())\n",
        "print(\"the number of rows are :\")\n",
        "x=len(pd.index)\n",
        "print(x)\n",
        "y=pd.dropna()\n",
        "z=len(y.index)\n",
        "print(\"the number of rows after dropping\")\n",
        "print(z)\n",
        "print(pd.loc[pd['Student name']=='James Walker'])\n",
        "phy=pd[pd['Exam name']=='Physics']['Marks'].mean()\n",
        "print(\"physics\",phy)\n",
        "chem=pd[pd['Exam name']=='Chemistry']['Marks'].mean()\n",
        "print(\"chemistry\",chem)\n",
        "bio=pd[pd['Exam name']=='Biology']['Marks'].mean()\n",
        "print(\"biology\",bio)\n",
        "philo=pd[pd['Exam name']=='Philosophy']['Marks'].mean()\n",
        "print(\"philosophy\",philo)\n",
        "math=pd[pd['Exam name']=='Mathematics']['Marks'].mean()\n",
        "print(\"Mathematics\",math)\n",
        "socio=pd[pd['Exam name']=='Sociology']['Marks'].mean()\n",
        "print(\"Sociology\",socio)\n",
        "x=np.array([\"mathematics\",\"physics\",\"chemistry\",\"biology\",\"philosophy\",\"sociology\",\"total\"])\n",
        "y=np.array([math,phy,chem,bio,philo,socio,100])\n",
        "plt.bar(x,y)\n",
        "plt.show()\n"
      ]
    },
    {
      "cell_type": "code",
      "source": [
        "import pandas\n",
        "import matplotlib.pyplot\n",
        "import numpy\n",
        "np=numpy\n",
        "plt=matplotlib.pyplot\n",
        "df=pandas\n",
        "pd=df.read_csv(\"StudentMarkSheet.csv\")\n",
        "print(pd.shape)\n",
        "print(pd.info())\n",
        "print(\"the number of rows are :\")\n",
        "x=len(pd.index)\n",
        "print(x)\n",
        "y=pd.dropna()\n",
        "z=len(y.index)\n",
        "print(\"the number of rows after dropping\")\n",
        "print(z)\n",
        "print(pd.loc[pd['Student name']=='James Walker'])\n",
        "phy=pd[pd['Exam name']=='Physics']['Marks'].mean()\n",
        "print(\"physics\",phy)\n",
        "chem=pd[pd['Exam name']=='Chemistry']['Marks'].mean()\n",
        "print(\"chemistry\",chem)\n",
        "bio=pd[pd['Exam name']=='Biology']['Marks'].mean()\n",
        "print(\"biology\",bio)\n",
        "philo=pd[pd['Exam name']=='Philosophy']['Marks'].mean()\n",
        "print(\"philosophy\",philo)\n",
        "math=pd[pd['Exam name']=='Mathematics']['Marks'].mean()\n",
        "print(\"Mathematics\",math)\n",
        "socio=pd[pd['Exam name']=='Sociology']['Marks'].mean()\n",
        "print(\"Sociology\",socio)\n",
        "x=np.array([\"mathematics\",\"physics\",\"chemistry\",\"biology\",\"philosophy\",\"sociology\",\"total\"])\n",
        "y=np.array([math,phy,chem,bio,philo,socio,100])\n",
        "plt.bar(x,y)\n",
        "plt.show()\n"
      ],
      "metadata": {
        "id": "v60BVyddJVs2"
      },
      "execution_count": null,
      "outputs": []
    },
    {
      "cell_type": "markdown",
      "source": [
        "**Part B** - Remove any rows that do not contain all the data. Also print the following information.\n",
        "\n",
        "1. Number of rows before\n",
        "2. Number of rows containing null data\n",
        "3. Number of rows after"
      ],
      "metadata": {
        "id": "jIaMvgcft_i0"
      }
    },
    {
      "cell_type": "code",
      "source": [
        "import pandas\n",
        "import matplotlib.pyplot\n",
        "import numpy\n",
        "np=numpy\n",
        "plt=matplotlib.pyplot\n",
        "df=pandas\n",
        "pd=df.read_csv(\"StudentMarkSheet.csv\")\n",
        "print(pd.shape)\n",
        "print(pd.info())\n",
        "print(\"the number of rows are :\")\n",
        "x=len(pd.index)\n",
        "print(x)\n",
        "y=pd.dropna()\n",
        "z=len(y.index)\n",
        "print(\"the number of rows after dropping\")\n",
        "print(z)\n",
        "print(pd.loc[pd['Student name']=='James Walker'])\n",
        "phy=pd[pd['Exam name']=='Physics']['Marks'].mean()\n",
        "print(\"physics\",phy)\n",
        "chem=pd[pd['Exam name']=='Chemistry']['Marks'].mean()\n",
        "print(\"chemistry\",chem)\n",
        "bio=pd[pd['Exam name']=='Biology']['Marks'].mean()\n",
        "print(\"biology\",bio)\n",
        "philo=pd[pd['Exam name']=='Philosophy']['Marks'].mean()\n",
        "print(\"philosophy\",philo)\n",
        "math=pd[pd['Exam name']=='Mathematics']['Marks'].mean()\n",
        "print(\"Mathematics\",math)\n",
        "socio=pd[pd['Exam name']=='Sociology']['Marks'].mean()\n",
        "print(\"Sociology\",socio)\n",
        "x=np.array([\"mathematics\",\"physics\",\"chemistry\",\"biology\",\"philosophy\",\"sociology\",\"total\"])\n",
        "y=np.array([math,phy,chem,bio,philo,socio,100])\n",
        "plt.bar(x,y)\n",
        "plt.show()\n"
      ],
      "metadata": {
        "id": "_ov_SWdxuZUm"
      },
      "execution_count": null,
      "outputs": []
    },
    {
      "cell_type": "markdown",
      "source": [
        "**Part C** - Print all the marks along with the subject for the student named \"James Walker\""
      ],
      "metadata": {
        "id": "2kd9zAX6wkXM"
      }
    },
    {
      "cell_type": "code",
      "source": [
        "import pandas\n",
        "import matplotlib.pyplot\n",
        "import numpy\n",
        "np=numpy\n",
        "plt=matplotlib.pyplot\n",
        "df=pandas\n",
        "pd=df.read_csv(\"StudentMarkSheet.csv\")\n",
        "print(pd.shape)\n",
        "print(pd.info())\n",
        "print(\"the number of rows are :\")\n",
        "x=len(pd.index)\n",
        "print(x)\n",
        "y=pd.dropna()\n",
        "z=len(y.index)\n",
        "print(\"the number of rows after dropping\")\n",
        "print(z)\n",
        "print(pd.loc[pd['Student name']=='James Walker'])\n",
        "phy=pd[pd['Exam name']=='Physics']['Marks'].mean()\n",
        "print(\"physics\",phy)\n",
        "chem=pd[pd['Exam name']=='Chemistry']['Marks'].mean()\n",
        "print(\"chemistry\",chem)\n",
        "bio=pd[pd['Exam name']=='Biology']['Marks'].mean()\n",
        "print(\"biology\",bio)\n",
        "philo=pd[pd['Exam name']=='Philosophy']['Marks'].mean()\n",
        "print(\"philosophy\",philo)\n",
        "math=pd[pd['Exam name']=='Mathematics']['Marks'].mean()\n",
        "print(\"Mathematics\",math)\n",
        "socio=pd[pd['Exam name']=='Sociology']['Marks'].mean()\n",
        "print(\"Sociology\",socio)\n",
        "x=np.array([\"mathematics\",\"physics\",\"chemistry\",\"biology\",\"philosophy\",\"sociology\",\"total\"])\n",
        "y=np.array([math,phy,chem,bio,philo,socio,100])\n",
        "plt.bar(x,y)\n",
        "plt.show()\n"
      ],
      "metadata": {
        "id": "N0HWJN-PwuSo"
      },
      "execution_count": null,
      "outputs": []
    },
    {
      "cell_type": "markdown",
      "source": [
        "---\n",
        "## Question 3\n",
        "---"
      ],
      "metadata": {
        "id": "ts8Y1EXmwzhf"
      }
    },
    {
      "cell_type": "markdown",
      "source": [
        "**Part A** - From the DataFrame created in Question 2, calculate the average marks for each subject"
      ],
      "metadata": {
        "id": "PJENm_hpw3GQ"
      }
    },
    {
      "cell_type": "code",
      "source": [
        "import pandas\n",
        "import matplotlib.pyplot\n",
        "import numpy\n",
        "np=numpy\n",
        "plt=matplotlib.pyplot\n",
        "df=pandas\n",
        "pd=df.read_csv(\"StudentMarkSheet.csv\")\n",
        "print(pd.shape)\n",
        "print(pd.info())\n",
        "print(\"the number of rows are :\")\n",
        "x=len(pd.index)\n",
        "print(x)\n",
        "y=pd.dropna()\n",
        "z=len(y.index)\n",
        "print(\"the number of rows after dropping\")\n",
        "print(z)\n",
        "print(pd.loc[pd['Student name']=='James Walker'])\n",
        "phy=pd[pd['Exam name']=='Physics']['Marks'].mean()\n",
        "print(\"physics\",phy)\n",
        "chem=pd[pd['Exam name']=='Chemistry']['Marks'].mean()\n",
        "print(\"chemistry\",chem)\n",
        "bio=pd[pd['Exam name']=='Biology']['Marks'].mean()\n",
        "print(\"biology\",bio)\n",
        "philo=pd[pd['Exam name']=='Philosophy']['Marks'].mean()\n",
        "print(\"philosophy\",philo)\n",
        "math=pd[pd['Exam name']=='Mathematics']['Marks'].mean()\n",
        "print(\"Mathematics\",math)\n",
        "socio=pd[pd['Exam name']=='Sociology']['Marks'].mean()\n",
        "print(\"Sociology\",socio)\n",
        "x=np.array([\"mathematics\",\"physics\",\"chemistry\",\"biology\",\"philosophy\",\"sociology\",\"total\"])\n",
        "y=np.array([math,phy,chem,bio,philo,socio,100])\n",
        "plt.bar(x,y)\n",
        "plt.show()\n"
      ],
      "metadata": {
        "id": "AxhCtST5xS3L"
      },
      "execution_count": null,
      "outputs": []
    },
    {
      "cell_type": "markdown",
      "source": [
        "**Part B** - Using the averages you just calculated, plot a Bar Graph showing the average marks of each subject"
      ],
      "metadata": {
        "id": "NDlaA7hHxUBc"
      }
    },
    {
      "cell_type": "code",
      "source": [
        "import pandas\n",
        "import matplotlib.pyplot\n",
        "import numpy\n",
        "np=numpy\n",
        "plt=matplotlib.pyplot\n",
        "df=pandas\n",
        "pd=df.read_csv(\"StudentMarkSheet.csv\")\n",
        "print(pd.shape)\n",
        "print(pd.info())\n",
        "print(\"the number of rows are :\")\n",
        "x=len(pd.index)\n",
        "print(x)\n",
        "y=pd.dropna()\n",
        "z=len(y.index)\n",
        "print(\"the number of rows after dropping\")\n",
        "print(z)\n",
        "print(pd.loc[pd['Student name']=='James Walker'])\n",
        "phy=pd[pd['Exam name']=='Physics']['Marks'].mean()\n",
        "print(\"physics\",phy)\n",
        "chem=pd[pd['Exam name']=='Chemistry']['Marks'].mean()\n",
        "print(\"chemistry\",chem)\n",
        "bio=pd[pd['Exam name']=='Biology']['Marks'].mean()\n",
        "print(\"biology\",bio)\n",
        "philo=pd[pd['Exam name']=='Philosophy']['Marks'].mean()\n",
        "print(\"philosophy\",philo)\n",
        "math=pd[pd['Exam name']=='Mathematics']['Marks'].mean()\n",
        "print(\"Mathematics\",math)\n",
        "socio=pd[pd['Exam name']=='Sociology']['Marks'].mean()\n",
        "print(\"Sociology\",socio)\n",
        "x=np.array([\"mathematics\",\"physics\",\"chemistry\",\"biology\",\"philosophy\",\"sociology\",\"total\"])\n",
        "y=np.array([math,phy,chem,bio,philo,socio,100])\n",
        "plt.bar(x,y)\n",
        "plt.show()\n"
      ],
      "metadata": {
        "id": "LWoPFZBOyyNn"
      },
      "execution_count": null,
      "outputs": []
    },
    {
      "cell_type": "markdown",
      "source": [
        "---\n",
        "## Question 4\n",
        "---"
      ],
      "metadata": {
        "id": "dWlOSOIs6d1R"
      }
    },
    {
      "cell_type": "markdown",
      "source": [
        "**Part A** - Import the file \"CatData.csv\" and preprocess it to remove any null values"
      ],
      "metadata": {
        "id": "b4s-pN4v6kgb"
      }
    },
    {
      "cell_type": "code",
      "source": [
        "import pandas\n",
        "import matplotlib.pyplot\n",
        "import numpy\n",
        "np=numpy\n",
        "plt=matplotlib.pyplot\n",
        "df=pandas\n",
        "pd=df.read_csv(\"CatData.csv\")\n",
        "x=len(pd.index)\n",
        "print(\" number of rows before processing : \",x)\n",
        "y=pd.dropna()\n",
        "z=len(y.index)\n",
        "print(\"number of rows after processing :\",z)\n"
      ],
      "metadata": {
        "id": "mvZ3xrBV9b1s",
        "outputId": "6f36cc00-e223-4df6-8500-9211970384c3",
        "colab": {
          "base_uri": "https://localhost:8080/"
        }
      },
      "execution_count": 9,
      "outputs": [
        {
          "output_type": "stream",
          "name": "stdout",
          "text": [
            " number of rows before processing :  342\n",
            "number of rows after processing : 342\n"
          ]
        }
      ]
    },
    {
      "cell_type": "markdown",
      "source": [
        "**Part B** - Identify the independant and dependant variables (comment answer below)"
      ],
      "metadata": {
        "id": "bWxuB3ep9SWA"
      }
    },
    {
      "cell_type": "code",
      "source": [
        "# dependant variable: mass(kg)\n",
        "# independant variable: tail length"
      ],
      "metadata": {
        "id": "TS9tvuRt9cWr"
      },
      "execution_count": null,
      "outputs": []
    },
    {
      "cell_type": "markdown",
      "source": [
        "**Part C** - Create a linear regression model using sklearn and fit it to the data you just imported\n"
      ],
      "metadata": {
        "id": "xPHVA3cX7uk9"
      }
    },
    {
      "cell_type": "code",
      "source": [
        "import pandas as df\n",
        "import matplotlib.pyplot as plt\n",
        "import numpy as np\n",
        "from  sklearn import linear_model\n",
        "pd=df.read_csv(\"CatData.csv\")\n",
        "x=len(pd.index)\n",
        "print(\" number of rows before processing : \",x)\n",
        "y=pd.dropna()\n",
        "z=len(y.index)\n",
        "print(\"number of rows after processing :\",z)\n",
        "num=int(len(pd)*0.8)\n",
        "train=pd[:num]\n",
        "test=pd[num:]\n",
        "print(len(pd))\n",
        "print(\"training set\",len(train))\n",
        "print(\"testing set\",len(test))\n",
        "regr=linear_model.LinearRegression()\n",
        "trainx=np.array(train[['Tail Length (cm)']])\n",
        "trainy= np.array(train[['Mass (kg)']])\n",
        "regr.fit(trainx,trainy)\n",
        "coefficients = regr.coef_\n",
        "intercept =regr.intercept_\n",
        "\n"
      ],
      "metadata": {
        "id": "WYVNRotH9cyo",
        "outputId": "282fe1b5-3853-4a59-ed17-bb728ca83236",
        "colab": {
          "base_uri": "https://localhost:8080/"
        }
      },
      "execution_count": 15,
      "outputs": [
        {
          "output_type": "stream",
          "name": "stdout",
          "text": [
            " number of rows before processing :  342\n",
            "number of rows after processing : 342\n",
            "342\n",
            "training set 273\n",
            "testing set 69\n"
          ]
        }
      ]
    },
    {
      "cell_type": "markdown",
      "source": [
        "**Part D** - Print the values for slope and y-intercept"
      ],
      "metadata": {
        "id": "0QMipKhb830G"
      }
    },
    {
      "cell_type": "code",
      "source": [
        "import pandas as df\n",
        "import matplotlib.pyplot as plt\n",
        "import numpy as np\n",
        "from  sklearn import linear_model\n",
        "pd=df.read_csv(\"CatData.csv\")\n",
        "x=len(pd.index)\n",
        "print(\" number of rows before processing : \",x)\n",
        "y=pd.dropna()\n",
        "z=len(y.index)\n",
        "print(\"number of rows after processing :\",z)\n",
        "num=int(len(pd)*0.8)\n",
        "train=pd[:num]\n",
        "test=pd[num:]\n",
        "print(len(pd))\n",
        "print(\"training set\",len(train))\n",
        "print(\"testing set\",len(test))\n",
        "regr=linear_model.LinearRegression()\n",
        "trainx=np.array(train[['Tail Length (cm)']])\n",
        "trainy= np.array(train[['Mass (kg)']])\n",
        "regr.fit(trainx,trainy)\n",
        "coefficients = regr.coef_\n",
        "intercept =regr.intercept_\n",
        "print(\"slope :\",coefficients)\n",
        "print(\"intercepts\",intercept)\n",
        "\n"
      ],
      "metadata": {
        "id": "R7cvi3KB9dJh",
        "outputId": "0352284c-9002-46f3-ec84-e9335ceef88a",
        "colab": {
          "base_uri": "https://localhost:8080/"
        }
      },
      "execution_count": 16,
      "outputs": [
        {
          "output_type": "stream",
          "name": "stdout",
          "text": [
            " number of rows before processing :  342\n",
            "number of rows after processing : 342\n",
            "342\n",
            "training set 273\n",
            "testing set 69\n",
            "slope : [[0.48913766]]\n",
            "intercepts [-5.57328662]\n"
          ]
        }
      ]
    },
    {
      "cell_type": "markdown",
      "source": [
        "**Part E** - Plot a scatter graph of the original data and a regression line on the same figure (example with dummy data shown below)\n",
        "\n",
        "![](https://drive.google.com/uc?export=view&id=1o_NAsNjfx7zAh9m-UjvWB3rta6uraKdY)"
      ],
      "metadata": {
        "id": "IIq-BQYp_i33"
      }
    },
    {
      "cell_type": "code",
      "source": [
        "import pandas as df\n",
        "import matplotlib.pyplot as plt\n",
        "import numpy as np\n",
        "from  sklearn import linear_model\n",
        "pd=df.read_csv(\"CatData.csv\")\n",
        "x=len(pd.index)\n",
        "print(\" number of rows before processing : \",x)\n",
        "y=pd.dropna()\n",
        "z=len(y.index)\n",
        "print(\"number of rows after processing :\",z)\n",
        "num=int(len(pd)*0.8)\n",
        "train=pd[:num]\n",
        "test=pd[num:]\n",
        "print(len(pd))\n",
        "print(\"training set\",len(train))\n",
        "print(\"testing set\",len(test))\n",
        "\n",
        "regr=linear_model.LinearRegression()\n",
        "trainx=np.array(train[['Tail Length (cm)']])\n",
        "trainy= np.array(train[['Mass (kg)']])\n",
        "regr.fit(trainx,trainy)\n",
        "coefficients = regr.coef_\n",
        "intercept =regr.intercept_\n",
        "print(\"slope :\",coefficients)\n",
        "print(\"intercepts\",intercept)\n",
        "plt.scatter(train['Tail Length (cm)'],train['Mass (kg)'])\n",
        "plt.plot(trainx,coefficients[0]*trainx+intercept,color=\"red\")\n",
        "plt.title(\"scatter plot\")\n",
        "plt.xlabel('Tail Length (cm)')\n",
        "plt.ylabel('Mass (kg)')\n",
        "plt.show()\n"
      ],
      "metadata": {
        "id": "jhz8gTYt_lCn",
        "outputId": "31df09f7-c84a-48fa-a28a-d94682b4d130",
        "colab": {
          "base_uri": "https://localhost:8080/",
          "height": 416
        }
      },
      "execution_count": 18,
      "outputs": [
        {
          "output_type": "stream",
          "name": "stdout",
          "text": [
            " number of rows before processing :  342\n",
            "number of rows after processing : 342\n",
            "342\n",
            "training set 273\n",
            "testing set 69\n",
            "slope : [[0.48913766]]\n",
            "intercepts [-5.57328662]\n"
          ]
        },
        {
          "output_type": "display_data",
          "data": {
            "text/plain": [
              "<Figure size 432x288 with 1 Axes>"
            ],
            "image/png": "[encoded data removed]"
          },
          "metadata": {
            "needs_background": "light"
          }
        }
      ]
    }
  ]
}